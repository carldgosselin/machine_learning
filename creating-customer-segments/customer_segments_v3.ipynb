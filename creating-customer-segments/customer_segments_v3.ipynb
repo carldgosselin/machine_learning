{
 "cells": [
  {
   "cell_type": "code",
   "execution_count": 1,
   "metadata": {
    "collapsed": true
   },
   "outputs": [],
   "source": [
    "# Creating Customer Segments"
   ]
  },
  {
   "cell_type": "markdown",
   "metadata": {},
   "source": [
    "In this project you, will analyze a dataset containing annual spending amounts for internal structure, to understand the variation in the different types of customers that a wholesale distributor interacts with.\n",
    "\n",
    "Instructions:\n",
    "\n",
    "- Run each code block below by pressing **Shift+Enter**, making sure to implement any steps marked with a TODO.\n",
    "- Answer each question in the space provided by editing the blocks labeled \"Answer:\".\n",
    "- When you are done, submit the completed notebook (.ipynb) with all code blocks executed, as well as a .pdf version (File > Download as)."
   ]
  },
  {
   "cell_type": "code",
   "execution_count": 2,
   "metadata": {
    "collapsed": false
   },
   "outputs": [
    {
     "name": "stdout",
     "output_type": "stream",
     "text": [
      "\n",
      "\n",
      "Dataset has 440 rows, 6 columns\n",
      "\n",
      "\n",
      "   Fresh  Milk  Grocery  Frozen  Detergents_Paper  Delicatessen\n",
      "0  12669  9656     7561     214              2674          1338\n",
      "1   7057  9810     9568    1762              3293          1776\n",
      "2   6353  8808     7684    2405              3516          7844\n",
      "3  13265  1196     4221    6404               507          1788\n",
      "4  22615  5410     7198    3915              1777          5185\n",
      "\n",
      "\n"
     ]
    }
   ],
   "source": [
    "# Import libraries: NumPy, pandas, matplotlib\n",
    "import numpy as np\n",
    "import pandas as pd\n",
    "import matplotlib.pyplot as plt\n",
    "\n",
    "# Tell iPython to include plots inline in the notebook\n",
    "%matplotlib inline\n",
    "\n",
    "# Read dataset\n",
    "data = pd.read_csv(\"wholesale-customers.csv\")\n",
    "#print data.describe()\n",
    "print '\\n'\n",
    "print \"Dataset has {} rows, {} columns\".format(*data.shape)\n",
    "print '\\n'\n",
    "print data.head()  # print the first 5 rows\n",
    "print '\\n'"
   ]
  },
  {
   "cell_type": "raw",
   "metadata": {},
   "source": [
    "# Feature Transformation"
   ]
  },
  {
   "cell_type": "markdown",
   "metadata": {},
   "source": [
    "**1)** In this section you will be using PCA and ICA to start to understand the structure of the data. Before doing any computations, what do you think will show up in your computations? List one or two ideas for what might show up as the first PCA dimensions, or what type of vectors will show up as ICA dimensions."
   ]
  },
  {
   "cell_type": "markdown",
   "metadata": {},
   "source": [
    "Answer:"
   ]
  },
  {
   "cell_type": "markdown",
   "metadata": {},
   "source": [
    "1) List one or two ideas for what might show up as the first PCA dimensions:\n",
    "\n",
    "PCA, as the name implies, will create \"components\" that best captures the variance in the data.  PCA reduces the number of features, or dimensionality, while minimizing information loss.  What we know about the data so far, from the assignment description and the README file, is that the wholesale distribution company caters to both high-volume customers and smaller family-run businesses.  The README file gives a high-level overview of the data:\n",
    "\n",
    "**Attribute: \t\t(Min, \tMax, \t\tMean, \t\tStd. Deviation)**\n",
    "- Fresh: \t\t\t(3,\t\t112,151, \t12,000.30, \t12,47.329)\n",
    "- Grocery: \t\t\t(3, \t92,780, \t7,951.28, \t9,503.163)\n",
    "- Milk: \t\t\t(55, \t73,498, \t5,796.27, \t7,380.377)\n",
    "- Frozen: \t\t\t(25, \t60,869, \t3,071.93, \t4,854.673)\n",
    "- Detergents_Paper: (3, \t40,827, \t2,881.49, \t4,767.854)\n",
    "- Delicatessen: \t(3, \t47,943, \t1,524.87, \t2,820.106)\n",
    "\n",
    "Given the initial information about the types of clients, high-volume customers and smaller family-run shops, and the high-level summary of the data in the README file, I sense that the first PCA dimension (which captures the most variance in the data) will relate to the \"Fresh\" and \"Grocery\" items.  Both of these items have the greatest standard deviations. \n",
    "\n",
    "2) What type of vectors will show up as ICA dimensions:\n",
    "\n",
    "ICA, on the other hand, looks to find components that are statistically independent from each other.  ICA will attempt to find clear boundaries between components.  I have the sense that the ICA method is not appropriate for this data as there will be no clear division, no real independence between wholesale items.  But let's find out.  If ICA proves useful however, each of the ICA vectors could represent independent customers.\n"
   ]
  },
  {
   "cell_type": "code",
   "execution_count": 3,
   "metadata": {
    "collapsed": false
   },
   "outputs": [
    {
     "name": "stdout",
     "output_type": "stream",
     "text": [
      "Additional information learned after Udacity feedback...\n",
      "The data.describe() function provides information on the data...\n",
      "\n",
      "\n",
      "               Fresh          Milk       Grocery        Frozen  \\\n",
      "count     440.000000    440.000000    440.000000    440.000000   \n",
      "mean    12000.297727   5796.265909   7951.277273   3071.931818   \n",
      "std     12647.328865   7380.377175   9503.162829   4854.673333   \n",
      "min         3.000000     55.000000      3.000000     25.000000   \n",
      "25%      3127.750000   1533.000000   2153.000000    742.250000   \n",
      "50%      8504.000000   3627.000000   4755.500000   1526.000000   \n",
      "75%     16933.750000   7190.250000  10655.750000   3554.250000   \n",
      "max    112151.000000  73498.000000  92780.000000  60869.000000   \n",
      "\n",
      "       Detergents_Paper  Delicatessen  \n",
      "count        440.000000    440.000000  \n",
      "mean        2881.493182   1524.870455  \n",
      "std         4767.854448   2820.105937  \n",
      "min            3.000000      3.000000  \n",
      "25%          256.750000    408.250000  \n",
      "50%          816.500000    965.500000  \n",
      "75%         3922.000000   1820.250000  \n",
      "max        40827.000000  47943.000000  \n"
     ]
    }
   ],
   "source": [
    "print 'Additional information learned after Udacity feedback...'\n",
    "print 'The data.describe() function provides information on the data...'\n",
    "print '\\n'\n",
    "print data.describe()"
   ]
  },
  {
   "cell_type": "code",
   "execution_count": 4,
   "metadata": {
    "collapsed": false
   },
   "outputs": [
    {
     "name": "stdout",
     "output_type": "stream",
     "text": [
      "\n",
      "\n",
      "data.head()...\n",
      "   Fresh  Milk  Grocery  Frozen  Detergents_Paper  Delicatessen\n",
      "0  12669  9656     7561     214              2674          1338\n",
      "1   7057  9810     9568    1762              3293          1776\n",
      "2   6353  8808     7684    2405              3516          7844\n",
      "3  13265  1196     4221    6404               507          1788\n",
      "4  22615  5410     7198    3915              1777          5185\n",
      "\n",
      "\n",
      "pca.components_...\n",
      "[[-0.97653685 -0.12118407 -0.06154039 -0.15236462  0.00705417 -0.06810471]\n",
      " [-0.11061386  0.51580216  0.76460638 -0.01872345  0.36535076  0.05707921]\n",
      " [-0.17855726  0.50988675 -0.27578088  0.71420037 -0.20440987  0.28321747]\n",
      " [-0.04187648 -0.64564047  0.37546049  0.64629232  0.14938013 -0.02039579]\n",
      " [ 0.015986    0.20323566 -0.1602915   0.22018612  0.20793016 -0.91707659]\n",
      " [-0.01576316  0.03349187  0.41093894 -0.01328898 -0.87128428 -0.26541687]]\n",
      "\n",
      "\n",
      "pca.explained_variance_ratio_...\n",
      "[ 0.45961362  0.40517227  0.07003008  0.04402344  0.01502212  0.00613848]\n",
      "\n",
      "\n"
     ]
    },
    {
     "data": {
      "image/png": "[encoded data removed]",
      "text/plain": [
       "<matplotlib.figure.Figure at 0x108ff2850>"
      ]
     },
     "metadata": {},
     "output_type": "display_data"
    }
   ],
   "source": [
    "# TODO: Apply PCA with the same number of dimensions as variables in the dataset\n",
    "import pandas as pd\n",
    "from sklearn.decomposition import PCA\n",
    "pca = PCA(n_components=6)\n",
    "pca.fit(data)\n",
    "\n",
    "# for viewing\n",
    "print '\\n'\n",
    "print 'data.head()...'\n",
    "print data.head()  # print the first 5 rows\n",
    "print '\\n'\n",
    "\n",
    "# Print the components and the amount of variance in the data contained in each dimension\n",
    "print 'pca.components_...'\n",
    "print pca.components_\n",
    "print '\\n'\n",
    "print 'pca.explained_variance_ratio_...'\n",
    "print pca.explained_variance_ratio_\n",
    "\n",
    "plt.figure(figsize=(10,5))\n",
    "plt.xlabel('PCA Dimensions', fontsize=12)\n",
    "plt.ylabel('Variance', fontsize=12)\n",
    "plt.title('Explained Variance by PCA Dimension - Plotted')\n",
    "X = np.arange(1,7)\n",
    "Y = np.cumsum(pca.explained_variance_ratio_)\n",
    "plt.plot(X,Y)\n",
    "print '\\n'"
   ]
  },
  {
   "cell_type": "markdown",
   "metadata": {},
   "source": [
    "**2)** How quickly does the variance drop off by dimension? If you were to use PCA on this dataset, how many dimensions would you choose for your analysis? Why?"
   ]
  },
  {
   "cell_type": "markdown",
   "metadata": {
    "collapsed": true
   },
   "source": [
    "Answer:\n",
    "The variance drops off significantly after the 2nd primary component.  Looking at the results of the plotted PCA graph, I would choose the first two dimensions.  The first two dimensions capture 86% of the variance in the data."
   ]
  },
  {
   "cell_type": "markdown",
   "metadata": {},
   "source": [
    "**3)** What do the dimensions seem to represent? How can you use this information?"
   ]
  },
  {
   "cell_type": "raw",
   "metadata": {
    "collapsed": true
   },
   "source": [
    "Answer: \n",
    "\n",
    "The 1st dimension shows \"Fresh\" as the variable with the strongest correlation at -0.97:\n",
    "  Fresh       Milk        Grocery     Frozen      Deterg...   Delicatessen\n",
    "[-0.97653685 -0.12118407 -0.06154039 -0.15236462  0.00705417 -0.06810471]\n",
    "\n",
    "The 2nd dimension shows \"Grocery\" and \"Milk\" as the variables with the strongest correlation at 0.76 and 0.51 respectively:\n",
    "  Fresh       Milk        Grocery     Frozen      Deterg...   Delicatessen\n",
    "[-0.11061386  0.51580216  0.76460638 -0.01872345  0.36535076  0.05707921]\n",
    "\n",
    "The 1st principal component is stronly correlated with the \"Fresh\" variable. The 1st principal component increases as the \"Fresh\" variable decreases.  \n",
    "\n",
    "# corrected paragraph below after feedback...\n",
    "This component can be viewed as a measure of how \"Fresh\" orders decline with smaller customers.\n",
    "Because of the high correlation for \"Fresh\" (-0.97), this principal component is primarily a measure of the \"Fresh\" variable.  Therefore, high-volume customers order much more \"Fresh\" items (in comparison to other items) than low-volume customers.\n",
    "\n",
    "The 2nd principal component is showing a rather steady decline in variance starting with \"Grocery\" at 0.76 down to \"Fresh\" at -0.11 (0.76 -> 0.51 -> 0.36 -> 0.05 -> -0.018 -> -0.11).  Looking at the data, I will (subjectively) deem important all correlation values above 0.5.  This criteria leaves me with two variables, \"Grocery\" at 0.76 and \"Milk\" at 0.51.  This would indicate that these two variables vary together.  I would say that the 2nd principal component is strongly correlated with \"Grocery\" and \"Milk\".  The high-volume customers order more \"Grocery\" and \"Milk\" items than low-volume customers.\n"
   ]
  },
  {
   "cell_type": "code",
   "execution_count": 6,
   "metadata": {
    "collapsed": false
   },
   "outputs": [
    {
     "name": "stdout",
     "output_type": "stream",
     "text": [
      "\n",
      "\n",
      "The graph below shows, among other things, how high-volume customers order much more \"Fresh\" items (in comparison to other items) than low-volume customers.\n"
     ]
    },
    {
     "data": {
      "text/plain": [
       "(-0.25, 1)"
      ]
     },
     "execution_count": 6,
     "metadata": {},
     "output_type": "execute_result"
    },
    {
     "data": {
      "image/png": "[encoded data removed]",
      "text/plain": [
       "<matplotlib.figure.Figure at 0x10913ec50>"
      ]
     },
     "metadata": {},
     "output_type": "display_data"
    }
   ],
   "source": [
    "print '\\n'\n",
    "print 'The graph below shows, among other things, how high-volume customers order much more \"Fresh\" items (in comparison to other items) than low-volume customers.'\n",
    "\n",
    "#import pandas as pd\n",
    "from sklearn.decomposition import PCA\n",
    "\n",
    "def biplot(df):\n",
    "    # Fit on 2 components\n",
    "    pca = PCA(n_components = 2, whiten=True).fit(df)\n",
    "    \n",
    "    # Plot transformed/projected data\n",
    "    ax = pd.DataFrame(\n",
    "        pca.transform(df),\n",
    "        columns=['Primary Component 1', 'Primary Component 2']\n",
    "    ).plot(kind='scatter', x='Primary Component 1', y='Primary Component 2', figsize=(10, 8), s=0.8)\n",
    "\n",
    "    # Plot arrows and labels\n",
    "    for i, (pc1, pc2) in enumerate(zip(pca.components_[0], pca.components_[1])):\n",
    "        ax.arrow(0, 0, pc1, pc2, width=0.001, fc='blue', ec='blue')\n",
    "        ax.annotate(df.columns[i], (pc1, pc2), size=12)\n",
    "\n",
    "    return ax\n",
    "\n",
    "ax = biplot(data)\n",
    "ax.set_xlim([-1.1, .5])\n",
    "ax.set_ylim([-.25, 1])"
   ]
  },
  {
   "cell_type": "raw",
   "metadata": {},
   "source": [
    "### ICA"
   ]
  },
  {
   "cell_type": "code",
   "execution_count": 7,
   "metadata": {
    "collapsed": false
   },
   "outputs": [
    {
     "name": "stdout",
     "output_type": "stream",
     "text": [
      "Independent Components:\n",
      "[[ -3.00060334e-07   2.28232144e-06   1.20918798e-05  -1.46070309e-06\n",
      "   -2.82157485e-05  -5.72571727e-06]\n",
      " [  1.52206749e-07   9.85239783e-06  -5.79548167e-06  -3.67037530e-07\n",
      "    3.26239877e-06  -6.06614791e-06]\n",
      " [ -2.11582533e-07   1.88002073e-06  -6.37841461e-06  -4.16791731e-07\n",
      "    7.08979178e-07   1.44281972e-06]\n",
      " [  3.97588207e-06  -8.57329842e-07  -6.23625425e-07  -6.77708744e-07\n",
      "    2.05778889e-06  -1.04492227e-06]\n",
      " [ -8.65226341e-07  -1.40291145e-07   7.73545338e-07   1.11461095e-05\n",
      "   -5.55265521e-07  -5.95215276e-06]\n",
      " [  3.86486545e-07   2.19351274e-07   6.00186230e-07   5.22177278e-07\n",
      "   -5.08096211e-07  -1.80922752e-05]]\n",
      "\n",
      "\n",
      "Generated the bar graph below after Udacity review.\n",
      "This makes evident the anti-correlation between Grocery and Detergents_Paper in the first vector...\n",
      "Axes(0.125,0.125;0.775x0.775)\n"
     ]
    },
    {
     "data": {
      "image/png": "[encoded data removed]",
      "text/plain": [
       "<matplotlib.figure.Figure at 0x10904d490>"
      ]
     },
     "metadata": {},
     "output_type": "display_data"
    }
   ],
   "source": [
    "# TODO: Fit an ICA model to the data\n",
    "# Note: Adjust the data to have center at the origin first!\n",
    "from sklearn.decomposition import FastICA\n",
    "#import pandas as pd\n",
    "\n",
    "data_mean = data.mean(axis=0)\n",
    "data_centered = data - data_mean\n",
    "\n",
    "ica = FastICA(n_components=6, random_state=12) # added random_state after answering question 4 (causing mismatch)\n",
    "ica.fit_transform(data_centered)\n",
    "\n",
    "# Print the independent components\n",
    "print \"Independent Components:\"\n",
    "print ica.components_\n",
    "print '\\n'\n",
    "\n",
    "print 'Generated the bar graph below after Udacity review.'\n",
    "print 'This makes evident the anti-correlation between Grocery and Detergents_Paper in the first vector...'\n",
    "print pd.DataFrame(ica.components_, columns = data.columns).plot(kind = 'bar')"
   ]
  },
  {
   "cell_type": "markdown",
   "metadata": {},
   "source": [
    "**4)** For each vector in the ICA decomposition, write a sentence or two explaining what sort of object or property it corresponds to. What could these components be used for?"
   ]
  },
  {
   "cell_type": "raw",
   "metadata": {
    "collapsed": true
   },
   "source": [
    "Answer: \n",
    "\n",
    "ICA assumes the independence of each variable. In other words, it assumes that knowing the value of one variable will not tell you anything about other variables.  ICA is a good technique to decompose multivariate signals into independent non-gaussian signals.  For example, ICA can take a voice recording from a busy cocktail party and decompose the sounds to each of the speakers.\n",
    "\n",
    "Vector 1\n",
    "  Fresh            Milk             Grocery          Frozen          Detergents_P..  Delicatessen\n",
    "[-3.86493444e-07, -2.19535813e-07, -6.00059586e-07, -5.22109683e-07, 5.09251107e-07, 1.80923299e-05]\n",
    "\n",
    "1. There looks to be an inverse relationship between Detergents_paper and Grocery.  \n",
    "2. The same can be said for Detergents_paper and Frozen.\n",
    "3. If I could interpret this vector in terms of a specific customer, I would say that this customer orders items related to \"delicatessen\" and \"detergents_paper\".\n",
    "# Additional comment added after Udacity review\n",
    "4. Independent of other effects, there is an anti-correlation between Detergents_paper and grocery.  Possibly this could come from a distinction between something like grocery stores and pharmacies which carry some food but far more paper products.  Meaning that these customers would purchase either detegents or grocery but not both.\n",
    "\n",
    "\n",
    "Vector 2\n",
    " Fresh            Milk            Grocery         Frozen           Detergents_P...  Delicatessen\n",
    "[2.10250752e-07, -1.88045881e-06, 6.44683132e-06, 4.08475108e-07, -8.56278580e-07, -1.46583796e-06]\n",
    "\n",
    "1. There looks to be an inverse relationship between Grocery and Detergents_Paper.\n",
    "2. If I could interpret this vector in terms of a specific customer, I would say that this customer orders items related in the \"Grocery\" category.\n",
    "\n",
    "\n",
    "Vector 3\n",
    "  Fresh           Milk            Grocery         Frozen           Detergents_P..  Delicatessen\n",
    "[-3.97600172e-06, 8.59682742e-07, 6.29261564e-07, 6.77057210e-07, -2.07148819e-06, 1.04089660e-06]\n",
    "\n",
    "1. If I could interpret this vector in terms of a specific customer, I would say that this customer orders items related to \"Milk\", \"Grocery\", and \"Frozen\".\n",
    "\n",
    "\n",
    "Vector 4\n",
    " Fresh           Milk             Grocery          Frozen          Detergents_P..  Delicatessen\n",
    "[8.65156139e-07, 1.40561193e-07, -7.73846916e-07, -1.11462029e-05, 5.54296812e-07, 5.95208596e-06]\n",
    "\n",
    "1. There looks to be an inverse relationship between Fresh and Grocery\n",
    "2. If I could interpret this vector in terms of a specific customer, I would say that this customer orders items related to \"Delicatessen\", \"Fresh\" and \"Detergents_paper\".\n",
    "\n",
    "\n",
    "Vector 5\n",
    "  Fresh           Milk            Grocery          Frozen           Detergents_P..  Delicatessen\n",
    "[-2.98917871e-07, 2.30935710e-06, 1.20484157e-05, -1.46342068e-06, -2.82047555e-05, -5.72930585e-06]\n",
    "\n",
    "1. If I could interpret this vector in terms of a specific customer, I would say that this customer orders items related to \"Grocery\" and \"Milk\".\n",
    "\n",
    "\n",
    "Vector 6\n",
    "  Fresh            Milk            Grocery         Frozen           Detergents_P..  Delicatessen\n",
    "[-1.53550243e-07, -9.84579909e-06, 5.80964770e-06, 3.64011304e-07, -3.31304205e-06, 6.05783015e-06]\n",
    "\n",
    "1. There looks to be an inverse relationship between Milk and Delicatessen.\n",
    "2. The same can be said for Milk and Grocery.\n",
    "3. If I could interpret this vector in terms of a specific customer, I would say that this customer orders items related to \"Delicatessen\" and \"Grocery\".\n",
    "\n",
    "What could these components be used for?\n",
    "\n",
    "The information obtained from the above 6 ICA vectors can be used to understand the types of customers that are purchasing items related to the six categories (fresh, Milk, ..., Delicatessen).  You can see that some of the items are highly correlated to each other, such as Grocery and Frozen in vector 1.  Equipped with this information, grocery stores could shelve these items closer together for a quicker sale or separate them on opposite parts of the store to have customers walk-by many other products for additional sales opportunities.  The success of these strategies could be measured by an A/B test (more on A/B test on question 9).\n"
   ]
  },
  {
   "cell_type": "markdown",
   "metadata": {},
   "source": [
    "##Clustering\n",
    "\n",
    "In this section you will choose either K Means clustering or Gaussian Mixed Models clustering, which implements expectation-maximization. Then you will sample elements from the clusters to understand their significance."
   ]
  },
  {
   "cell_type": "markdown",
   "metadata": {},
   "source": [
    "Choose a Cluster Type\n",
    "\n",
    "5) What are the advantages of using K Means clustering or Gaussian Mixture Models?"
   ]
  },
  {
   "cell_type": "raw",
   "metadata": {},
   "source": [
    "Answer: \n",
    "\n",
    "New comments after Udacity review...\n",
    "The two main differences have to do with speed and structural information of each:\n",
    "Speed\n",
    "   -> K-Means is much faster and much more scalable\n",
    "   -> GMM is slower since it has to incorporate information about the distributions of the data, thus it has to deal with co-variance, mean, variance, and prior probabilities of the data, and also has to assign probabilities to belonging to each of the clusters.\n",
    "\n",
    "Structure\n",
    "   -> K-Means has straight boundaries (hard clustering)\n",
    "   -> with GMM, you get much more structural information.  This means that you can measure how wide each cluster is, since it works on probabilities (soft clustering)\n",
    "\n",
    "\n",
    "--- Original answers START---\n",
    "K-means advantages:\n",
    "- Fast, scalable\n",
    "- Gives best results when data is distinct & well seperated\n",
    "\n",
    "K-means disadvantages:\n",
    "- not good for unbalaned clusters (when 1 cluster is bigger than the other).\n",
    "- Non-optimal clustering can occur, depending on where the initial centroids are placed.\n",
    "- Inconsistent end-results.  This algorithm converges to a local optimum.  In other words, running the algorithm multiple times will give a different end-result (depending the where the initial centroids are placed).\n",
    "- K-means is a hill-climbing algorithm.  So it's important to place the initial centroids properly\n",
    "\n",
    "\n",
    "Gaussian Mixture Model (GMM) advantages:\n",
    "- GMM generalizes k-means clustering.  It includes the covariance structure in the data as well as the centers of the latent gaussians.\n",
    "\n",
    "Gaussian Mixture Model (GMM) disadvantages:\n",
    "- Computational cost increases dramatically with increase in dimensionality\n",
    "--- Original answers END---\n",
    "\n",
    "\n",
    "Which algorithm is best-suited for this particular data?\n",
    "\n",
    "The data does not seem to have a clear divide between the known types of customers.  For this reason, I believe that GMM is a better technique than k-means. K-means is also not the best choice for elongated clusters or irregular shapes as it doesn't respond well to them.  Also, I believe that clustering the data between 2 groups with GMM will help visualize and relate the data back to the two main customer groups (high-volume and smaller family-run shops).\n",
    "\n",
    "In addition...\n",
    "K-means is a special case of GMM where it performs \"hard\" clustering.  In other words, every point is assigned specifically to one cluster instead of each point assigned a probability of belonging to a specific cluster. Also, K-means doesn't work well with clusters of different sizes and density.  I think GMM will be a better algorithm as it will describe the data, and the complexities within the data, in ways that K-means cannot capture (such as incorporating covariance structure). \n"
   ]
  },
  {
   "cell_type": "markdown",
   "metadata": {},
   "source": [
    "**6)** Below is some starter code to help you visualize some cluster data. The visualization is based on [this demo](http://scikit-learn.org/stable/auto_examples/cluster/plot_kmeans_digits.html) from the sklearn documentation."
   ]
  },
  {
   "cell_type": "code",
   "execution_count": 8,
   "metadata": {
    "collapsed": false
   },
   "outputs": [],
   "source": [
    "# Import clustering modules\n",
    "from sklearn.cluster import KMeans\n",
    "from sklearn.mixture import GMM"
   ]
  },
  {
   "cell_type": "code",
   "execution_count": 9,
   "metadata": {
    "collapsed": false
   },
   "outputs": [
    {
     "name": "stdout",
     "output_type": "stream",
     "text": [
      "[[  -650.02212207   1585.51909007]\n",
      " [  4426.80497937   4042.45150884]\n",
      " [  4841.9987068    2578.762176  ]\n",
      " [  -990.34643689  -6279.80599663]\n",
      " [-10657.99873116  -2159.72581518]\n",
      " [  2765.96159271   -959.87072713]\n",
      " [   715.55089221  -2013.00226567]\n",
      " [  4474.58366697   1429.49697204]\n",
      " [  6712.09539718  -2205.90915598]\n",
      " [  4823.63435407  13480.55920489]]\n"
     ]
    }
   ],
   "source": [
    "# TODO: First we reduce the data to two dimensions using PCA to capture variation\n",
    "reduced_data = PCA(n_components=2).fit_transform(data_centered)\n",
    "print reduced_data[:10]  # print upto 10 elements"
   ]
  },
  {
   "cell_type": "code",
   "execution_count": 10,
   "metadata": {
    "collapsed": false
   },
   "outputs": [
    {
     "name": "stdout",
     "output_type": "stream",
     "text": [
      "The chosen cluster variable -> GMM 2...\n",
      "GMM(covariance_type='diag', init_params='wmc', min_covar=0.001,\n",
      "  n_components=2, n_init=1, n_iter=100, params='wmc', random_state=None,\n",
      "  thresh=None, tol=0.001)\n"
     ]
    }
   ],
   "source": [
    "# TODO: Implement your clustering algorithm here, and fit it to the reduced data for visualization\n",
    "# The visualizer below assumes your clustering object is named 'clusters'\n",
    "\n",
    "#GMM - testing/comparing\n",
    "clusters_GMM_components_1 = GMM(n_components=1).fit(reduced_data)\n",
    "clusters_GMM_components_2 = GMM(n_components=2).fit(reduced_data)\n",
    "clusters_GMM_components_3 = GMM(n_components=3).fit(reduced_data)\n",
    "clusters_GMM_components_4 = GMM(n_components=4).fit(reduced_data)\n",
    "# The chosen one...\n",
    "clusters = GMM(n_components=2).fit(reduced_data)\n",
    "\n",
    "#KMeans - testing/comparing\n",
    "clusters_kmeans_1 = KMeans(n_clusters=1).fit(reduced_data)\n",
    "clusters_kmeans_2 = KMeans(n_clusters=2).fit(reduced_data)\n",
    "clusters_kmeans_3 = KMeans(n_clusters=3).fit(reduced_data)\n",
    "clusters_kmeans_4 = KMeans(n_clusters=4).fit(reduced_data)\n",
    "\n",
    "# The chosen cluster -> GMM 2...\n",
    "print 'The chosen cluster variable -> GMM 2...'\n",
    "print clusters"
   ]
  },
  {
   "cell_type": "code",
   "execution_count": 11,
   "metadata": {
    "collapsed": false
   },
   "outputs": [],
   "source": [
    "# Plot the decision boundary by building a mesh grid to populate a graph.\n",
    "x_min, x_max = reduced_data[:, 0].min() - 1, reduced_data[:, 0].max() + 1\n",
    "y_min, y_max = reduced_data[:, 1].min() - 1, reduced_data[:, 1].max() + 1\n",
    "hx = (x_max-x_min)/1000.\n",
    "hy = (y_max-y_min)/1000.\n",
    "xx, yy = np.meshgrid(np.arange(x_min, x_max, hx), np.arange(y_min, y_max, hy))\n",
    "\n",
    "# Obtain labels for each point in mesh. Use last trained model.\n",
    "Z = clusters.predict(np.c_[xx.ravel(), yy.ravel()])"
   ]
  },
  {
   "cell_type": "code",
   "execution_count": 12,
   "metadata": {
    "collapsed": false
   },
   "outputs": [
    {
     "name": "stdout",
     "output_type": "stream",
     "text": [
      "The chosen centroid variable -> GMM 2...\n",
      "[[  3308.39301792  -3017.01739698]\n",
      " [-10810.23008886   9858.15532401]]\n"
     ]
    }
   ],
   "source": [
    "# TODO: Find the centroids for KMeans or the cluster means for GMM \n",
    "\n",
    "# GMM - testing/comparing...\n",
    "centroids_GMM_components_1 = clusters_GMM_components_1.means_\n",
    "centroids_GMM_components_2 = clusters_GMM_components_2.means_\n",
    "centroids_GMM_components_3 = clusters_GMM_components_3.means_\n",
    "centroids_GMM_components_4 = clusters_GMM_components_4.means_\n",
    "centroids = clusters.means_\n",
    "\n",
    "# KMeans - testing/comparing...\n",
    "centroids_KMeans_clusters_1 = clusters_kmeans_1.cluster_centers_\n",
    "centroids_KMeans_clusters_2 = clusters_kmeans_2.cluster_centers_\n",
    "centroids_KMeans_clusters_3 = clusters_kmeans_3.cluster_centers_\n",
    "centroids_KMeans_clusters_4 = clusters_kmeans_4.cluster_centers_\n",
    "#centroids = clusters.cluster_centers_\n",
    "\n",
    "# The chosen centroid variable -> GMM 2...\n",
    "print 'The chosen centroid variable -> GMM 2...'\n",
    "print centroids"
   ]
  },
  {
   "cell_type": "code",
   "execution_count": 13,
   "metadata": {
    "collapsed": false
   },
   "outputs": [
    {
     "data": {
      "image/png": "[encoded data removed]",
      "text/plain": [
       "<matplotlib.figure.Figure at 0x109c95c50>"
      ]
     },
     "metadata": {},
     "output_type": "display_data"
    },
    {
     "name": "stdout",
     "output_type": "stream",
     "text": [
      "centroids_GMM_components_2...\n",
      "[[-10810.23008886   9858.15532401]\n",
      " [  3308.39301792  -3017.01739698]]\n",
      "\n",
      "\n"
     ]
    },
    {
     "data": {
      "image/png": "[encoded data removed]",
      "text/plain": [
       "<matplotlib.figure.Figure at 0x106bd3910>"
      ]
     },
     "metadata": {},
     "output_type": "display_data"
    },
    {
     "name": "stdout",
     "output_type": "stream",
     "text": [
      "centroids_GMM_components_3\n",
      "[[  7008.79023695   4324.06822955]\n",
      " [   358.36708419  -6497.47492087]\n",
      " [-17849.1311478    9968.58292565]]\n",
      "\n",
      "\n"
     ]
    },
    {
     "data": {
      "image/png": "[encoded data removed]",
      "text/plain": [
       "<matplotlib.figure.Figure at 0x1167333d0>"
      ]
     },
     "metadata": {},
     "output_type": "display_data"
    },
    {
     "name": "stdout",
     "output_type": "stream",
     "text": [
      "centroids_GMM_components_4\n",
      "[[  7182.42527042   5428.27138593]\n",
      " [-15313.48033345  -3338.2980532 ]\n",
      " [ -9418.46902103  34454.41705257]\n",
      " [  2336.74338421  -6721.26945836]]\n",
      "\n",
      "\n"
     ]
    }
   ],
   "source": [
    "### testing GMM with various n_components ###\n",
    "\n",
    "# test  GMM with n_components = 2\n",
    "clusters = clusters_GMM_components_2\n",
    "Z = clusters.predict(np.c_[xx.ravel(), yy.ravel()])\n",
    "centroids = centroids_GMM_components_2\n",
    "\n",
    "Z = Z.reshape(xx.shape)\n",
    "plt.figure(1)\n",
    "plt.clf()\n",
    "plt.imshow(Z, interpolation='nearest',\n",
    "           extent=(xx.min(), xx.max(), yy.min(), yy.max()),\n",
    "           cmap=plt.cm.Paired,\n",
    "           aspect='auto', origin='lower')\n",
    "\n",
    "plt.plot(reduced_data[:, 0], reduced_data[:, 1], 'k.', markersize=2)\n",
    "plt.scatter(centroids[:, 0], centroids[:, 1],\n",
    "            marker='x', s=169, linewidths=3,\n",
    "            color='w', zorder=10)\n",
    "plt.title('PCA - Clustering with GMM n_components=2')\n",
    "plt.xlim(x_min, x_max)\n",
    "plt.ylim(y_min, y_max)\n",
    "plt.xticks(())\n",
    "plt.yticks(())\n",
    "plt.show()\n",
    "print 'centroids_GMM_components_2...'\n",
    "print centroids_GMM_components_2\n",
    "print '\\n'\n",
    "\n",
    "# test GMM with n_components = 3\n",
    "clusters = clusters_GMM_components_3\n",
    "Z = clusters.predict(np.c_[xx.ravel(), yy.ravel()])\n",
    "centroids = centroids_GMM_components_3\n",
    "\n",
    "Z = Z.reshape(xx.shape)\n",
    "plt.figure(1)\n",
    "plt.clf()\n",
    "plt.imshow(Z, interpolation='nearest',\n",
    "           extent=(xx.min(), xx.max(), yy.min(), yy.max()),\n",
    "           cmap=plt.cm.Paired,\n",
    "           aspect='auto', origin='lower')\n",
    "\n",
    "plt.plot(reduced_data[:, 0], reduced_data[:, 1], 'k.', markersize=2)\n",
    "plt.scatter(centroids[:, 0], centroids[:, 1],\n",
    "            marker='x', s=169, linewidths=3,\n",
    "            color='w', zorder=10)\n",
    "plt.title('PCA - Clustering with GMM n_components=3')\n",
    "plt.xlim(x_min, x_max)\n",
    "plt.ylim(y_min, y_max)\n",
    "plt.xticks(())\n",
    "plt.yticks(())\n",
    "plt.show()\n",
    "print 'centroids_GMM_components_3'\n",
    "print centroids_GMM_components_3\n",
    "print '\\n'\n",
    "\n",
    "# test  GMM with n_components = 4\n",
    "clusters = clusters_GMM_components_4\n",
    "Z = clusters.predict(np.c_[xx.ravel(), yy.ravel()])\n",
    "centroids = centroids_GMM_components_4\n",
    "\n",
    "Z = Z.reshape(xx.shape)\n",
    "plt.figure(1)\n",
    "plt.clf()\n",
    "plt.imshow(Z, interpolation='nearest',\n",
    "           extent=(xx.min(), xx.max(), yy.min(), yy.max()),\n",
    "           cmap=plt.cm.Paired,\n",
    "           aspect='auto', origin='lower')\n",
    "\n",
    "plt.plot(reduced_data[:, 0], reduced_data[:, 1], 'k.', markersize=2)\n",
    "plt.scatter(centroids[:, 0], centroids[:, 1],\n",
    "            marker='x', s=169, linewidths=3,\n",
    "            color='w', zorder=10)\n",
    "plt.title('PCA - Clustering with GMM n_components=4')\n",
    "plt.xlim(x_min, x_max)\n",
    "plt.ylim(y_min, y_max)\n",
    "plt.xticks(())\n",
    "plt.yticks(())\n",
    "plt.show()\n",
    "print 'centroids_GMM_components_4'\n",
    "print centroids_GMM_components_4\n",
    "print '\\n'"
   ]
  },
  {
   "cell_type": "code",
   "execution_count": 14,
   "metadata": {
    "collapsed": false
   },
   "outputs": [
    {
     "data": {
      "image/png": "[encoded data removed]",
      "text/plain": [
       "<matplotlib.figure.Figure at 0x109da4650>"
      ]
     },
     "metadata": {},
     "output_type": "display_data"
    },
    {
     "name": "stdout",
     "output_type": "stream",
     "text": [
      "centroids_Kmeans_clusters_2...\n",
      "[[-24088.33276689   1218.17938291]\n",
      " [  4175.31101293   -211.15109304]]\n",
      "\n",
      "\n"
     ]
    },
    {
     "data": {
      "image/png": "[encoded data removed]",
      "text/plain": [
       "<matplotlib.figure.Figure at 0x11af9bfd0>"
      ]
     },
     "metadata": {},
     "output_type": "display_data"
    },
    {
     "name": "stdout",
     "output_type": "stream",
     "text": [
      "centroids_Kmeans_clusters_3...\n",
      "[[-23978.86566553  -4445.56611772]\n",
      " [  4165.1217824   -3105.15811456]\n",
      " [  1341.31124554  25261.39189714]]\n",
      "\n",
      "\n"
     ]
    },
    {
     "data": {
      "image/png": "[encoded data removed]",
      "text/plain": [
       "<matplotlib.figure.Figure at 0x11af9b050>"
      ]
     },
     "metadata": {},
     "output_type": "display_data"
    },
    {
     "name": "stdout",
     "output_type": "stream",
     "text": [
      "centroids_Kmeans_clusters_4...\n",
      "[[  3542.08605212  -4936.7212132 ]\n",
      " [  5710.98964991  12661.45687292]\n",
      " [-24220.71188261  -4364.45560022]\n",
      " [-14537.71774395  61715.67085248]]\n",
      "\n",
      "\n"
     ]
    }
   ],
   "source": [
    "### testing K-means with various n_clusters ###\n",
    "\n",
    "# test K-means with n_clusters = 2\n",
    "clusters = clusters_kmeans_2\n",
    "Z = clusters.predict(np.c_[xx.ravel(), yy.ravel()])\n",
    "centroids = centroids_KMeans_clusters_2\n",
    "\n",
    "Z = Z.reshape(xx.shape)\n",
    "plt.figure(1)\n",
    "plt.clf()\n",
    "plt.imshow(Z, interpolation='nearest',\n",
    "           extent=(xx.min(), xx.max(), yy.min(), yy.max()),\n",
    "           cmap=plt.cm.Paired,\n",
    "           aspect='auto', origin='lower')\n",
    "\n",
    "plt.plot(reduced_data[:, 0], reduced_data[:, 1], 'k.', markersize=2)\n",
    "plt.scatter(centroids[:, 0], centroids[:, 1],\n",
    "            marker='x', s=169, linewidths=3,\n",
    "            color='w', zorder=10)\n",
    "plt.title('PCA - Clustering with Kmeans n_clusters=2')\n",
    "plt.xlim(x_min, x_max)\n",
    "plt.ylim(y_min, y_max)\n",
    "plt.xticks(())\n",
    "plt.yticks(())\n",
    "plt.show()\n",
    "print 'centroids_Kmeans_clusters_2...'\n",
    "print centroids_KMeans_clusters_2\n",
    "print '\\n'\n",
    "\n",
    "# test K-means with n_clusters = 3\n",
    "clusters = clusters_kmeans_3\n",
    "Z = clusters.predict(np.c_[xx.ravel(), yy.ravel()])\n",
    "centroids = centroids_KMeans_clusters_3\n",
    "\n",
    "Z = Z.reshape(xx.shape)\n",
    "plt.figure(1)\n",
    "plt.clf()\n",
    "plt.imshow(Z, interpolation='nearest',\n",
    "           extent=(xx.min(), xx.max(), yy.min(), yy.max()),\n",
    "           cmap=plt.cm.Paired,\n",
    "           aspect='auto', origin='lower')\n",
    "\n",
    "plt.plot(reduced_data[:, 0], reduced_data[:, 1], 'k.', markersize=2)\n",
    "plt.scatter(centroids[:, 0], centroids[:, 1],\n",
    "            marker='x', s=169, linewidths=3,\n",
    "            color='w', zorder=10)\n",
    "plt.title('PCA - Clustering with Kmeans n_clusters=3')\n",
    "plt.xlim(x_min, x_max)\n",
    "plt.ylim(y_min, y_max)\n",
    "plt.xticks(())\n",
    "plt.yticks(())\n",
    "plt.show()\n",
    "print 'centroids_Kmeans_clusters_3...'\n",
    "print centroids_KMeans_clusters_3\n",
    "print '\\n'\n",
    "\n",
    "# test  K-means with n_clusters = 4\n",
    "clusters = clusters_kmeans_4\n",
    "Z = clusters.predict(np.c_[xx.ravel(), yy.ravel()])\n",
    "centroids = centroids_KMeans_clusters_4\n",
    "\n",
    "Z = Z.reshape(xx.shape)\n",
    "plt.figure(1)\n",
    "plt.clf()\n",
    "plt.imshow(Z, interpolation='nearest',\n",
    "           extent=(xx.min(), xx.max(), yy.min(), yy.max()),\n",
    "           cmap=plt.cm.Paired,\n",
    "           aspect='auto', origin='lower')\n",
    "\n",
    "plt.plot(reduced_data[:, 0], reduced_data[:, 1], 'k.', markersize=2)\n",
    "plt.scatter(centroids[:, 0], centroids[:, 1],\n",
    "            marker='x', s=169, linewidths=3,\n",
    "            color='w', zorder=10)\n",
    "plt.title('PCA - Clustering with Kmeans n_clusters=4')\n",
    "plt.xlim(x_min, x_max)\n",
    "plt.ylim(y_min, y_max)\n",
    "plt.xticks(())\n",
    "plt.yticks(())\n",
    "plt.show()\n",
    "print 'centroids_Kmeans_clusters_4...'\n",
    "print centroids_KMeans_clusters_4\n",
    "print '\\n'"
   ]
  },
  {
   "cell_type": "code",
   "execution_count": 15,
   "metadata": {
    "collapsed": false
   },
   "outputs": [
    {
     "name": "stdout",
     "output_type": "stream",
     "text": [
      "The chosen centroid variable -> GMM 2...\n",
      "[[-10810.23008886   9858.15532401]\n",
      " [  3308.39301792  -3017.01739698]]\n"
     ]
    },
    {
     "data": {
      "image/png": "[encoded data removed]",
      "text/plain": [
       "<matplotlib.figure.Figure at 0x109da2fd0>"
      ]
     },
     "metadata": {},
     "output_type": "display_data"
    },
    {
     "name": "stdout",
     "output_type": "stream",
     "text": [
      "The above graph seems to represent data and the two different types of customers the most appropriately.\n"
     ]
    }
   ],
   "source": [
    "# The chosen centroid variable -> GMM 2...\n",
    "#centroids = clusters.means_\n",
    "centroids = centroids_GMM_components_2\n",
    "print 'The chosen centroid variable -> GMM 2...'\n",
    "print centroids\n",
    "\n",
    "# The chosen one...\n",
    "clusters = GMM(n_components=2).fit(reduced_data)\n",
    "Z = clusters.predict(np.c_[xx.ravel(), yy.ravel()])\n",
    "centroids = clusters.means_\n",
    "\n",
    "Z = Z.reshape(xx.shape)\n",
    "plt.figure(1)\n",
    "plt.clf()\n",
    "plt.imshow(Z, interpolation='nearest',\n",
    "           extent=(xx.min(), xx.max(), yy.min(), yy.max()),\n",
    "           cmap=plt.cm.Paired,\n",
    "           aspect='auto', origin='lower')\n",
    "\n",
    "plt.plot(reduced_data[:, 0], reduced_data[:, 1], 'k.', markersize=2)\n",
    "plt.scatter(centroids[:, 0], centroids[:, 1],\n",
    "            marker='x', s=169, linewidths=3,\n",
    "            color='w', zorder=10)\n",
    "plt.title('PCA - Clustering with GMM n_components=2')\n",
    "plt.xlim(x_min, x_max)\n",
    "plt.ylim(y_min, y_max)\n",
    "plt.xticks(())\n",
    "plt.yticks(())\n",
    "plt.show()\n",
    "print 'The above graph seems to represent data and the two different types of customers the most appropriately.'\n"
   ]
  },
  {
   "cell_type": "code",
   "execution_count": 16,
   "metadata": {
    "collapsed": false
   },
   "outputs": [
    {
     "name": "stdout",
     "output_type": "stream",
     "text": [
      "Chosen centroids...\n",
      "[[  3308.39301792  -3017.01739698]\n",
      " [-10810.23008886   9858.15532401]]\n",
      "\n",
      "\n",
      "PCA.inverse_transform() to bring centroids into original dimensions\n",
      "reduced_fit.inverse_transform(centroids)...\n",
      "[[  9103.25397456   3839.15728914   5440.84670074   2624.33876372\n",
      "    1802.56155363   1127.34432737]\n",
      " [ 21466.4371414   12191.15139458  16154.15158614   4534.44968674\n",
      "    6406.92050793   2823.79379221]]\n",
      "\n",
      "\n",
      "Visual...\n",
      "Axes(0.125,0.125;0.775x0.775)\n"
     ]
    },
    {
     "data": {
      "image/png": "[encoded data removed]",
      "text/plain": [
       "<matplotlib.figure.Figure at 0x109d9bad0>"
      ]
     },
     "metadata": {},
     "output_type": "display_data"
    }
   ],
   "source": [
    "# PCA.inverse_transform() to bring centroids into original dimensions...\n",
    "\n",
    "reduced_fit = PCA(n_components=2).fit(data)\n",
    "reduced_data = reduced_fit.transform(data)\n",
    "print 'Chosen centroids...'\n",
    "print centroids\n",
    "print '\\n'\n",
    "print 'PCA.inverse_transform() to bring centroids into original dimensions'\n",
    "print 'reduced_fit.inverse_transform(centroids)...'\n",
    "print reduced_fit.inverse_transform(centroids)\n",
    "print '\\n'\n",
    "\n",
    "print 'Visual...'\n",
    "print pd.DataFrame(reduced_fit.inverse_transform(centroids),columns=data.columns).plot(kind='bar')\n"
   ]
  },
  {
   "cell_type": "markdown",
   "metadata": {},
   "source": [
    "**7)** What are the central objects in each cluster? Describe them as customers."
   ]
  },
  {
   "cell_type": "markdown",
   "metadata": {
    "collapsed": true
   },
   "source": [
    "Answer: \n",
    "\n",
    "The central objects represent the average customer in each of the clusters.  Given the initial information about the types of clients in the assignment briefing, the first cluster represents the high-volume customers and the second cluster represents the smaller family-run shops.  The tighter cluster located at the bottom right corner of the graph represents the smaller family-run shops.  The \"higher-variation\" cluster that occupies the rest of the graph represents the high-volume customers.\n",
    "\n",
    "Using the bar plot above, the high-volume customers buy a lot more \"Fresh\" products than the smaller-run family shops.  Overall, \"Fresh\", \"Milk\", and \"Grocery\" products visibly show the greatest difference between high-volume and smaller family-run shops. The other three products, \"Frozen\", Detergents_paper, and \"Delicatessen\", are ordered in larger volumes by the high-volume customers but the difference is not as great.   "
   ]
  },
  {
   "cell_type": "raw",
   "metadata": {},
   "source": [
    "###Conclusions\n",
    "\n",
    "** 8)** Which of these techniques did you feel gave you the most insight into the data?"
   ]
  },
  {
   "cell_type": "markdown",
   "metadata": {
    "collapsed": true
   },
   "source": [
    "Answer: \n",
    "\n",
    "I feel that PCA coupled with GMM gave the most insight into the data.\n",
    "\n",
    "First, the PCA algorithm was able to create latent features and, in turn, we were able to reduce the amount of data into two principal components with minimal data loss.  Reducing the data to two principal components enabled better visualization.  \n",
    "\n",
    "side note:  PCA enables better visualization but not better clustering.  Similar clusters would be generated with the original data.  And with the original data, the less prevalent features that are not part of the first two PCA's would also be taken into account.\n",
    "\n",
    "Because the data didn't seem to have a clear divide between to the known types of customers, GMM was a better technique than k-means. Clustering the data between 2 groups with GMM helped visualize and relate the data back to the two main customer groups (high-volume and smaller family-run shops).\n"
   ]
  },
  {
   "cell_type": "markdown",
   "metadata": {
    "collapsed": true
   },
   "source": [
    "**9)** How would you use that technique to help the company design new experiments?"
   ]
  },
  {
   "cell_type": "markdown",
   "metadata": {},
   "source": [
    "Answer: \n",
    "\n",
    "        **********************************************************************\n",
    "        *                              |  High-Volume   |  Small Family-run  *\n",
    "        *                              |  Customers     |  Businesses        *\n",
    "        *------------------------------------------------------------------- *\n",
    "        * Morning Delivery (Variant A) |     [Data]     |      [Data]        * <- Control groups\n",
    "        *------------------------------------------------------------------- *\n",
    "        * Evening Delivery (Variant B) |     [Data]     |      [Data]        * <- Experiment groups \n",
    "        **********************************************************************\n",
    "        \n",
    "        note:  only one variable can be tested at a time (to prevent bias in the experiment)\n",
    "        \n",
    "Now that we have the data seperated into two defined customer segments, new experiments can be implemented within a subset of customers within each of the segments for validation.  For example, in the above graph, the control groups continue to receive morning deliveries while a subset of each customer segment will receive evening deliveries.  If the change shows promise, for one or both customers, the change can then be implemented.  Given the initial information about the types of clients, high-volume customers and smaller family run shops, I would predict that this exercise would result in no significant decline in satisfaction for high-volume customers yet a signicant decline in satisfaction from the smaller family-run shops.\n"
   ]
  },
  {
   "cell_type": "markdown",
   "metadata": {},
   "source": [
    "**10)** How would you use that data to help you predict future customer needs?"
   ]
  },
  {
   "cell_type": "markdown",
   "metadata": {},
   "source": [
    "Answer: \n",
    "\n",
    "With customer segments defined, there is now the ability to apply supervised learning techniques to better understand the behaviours and financial results between the customer segments.  For example, the data can be used drive strategic decisions to focus on one of the customer segments over the other.  Overall, the data can assist in strategic decision-making with the support of calculated predictions.  Coupled with the A/B test technique, the calculated decisions can be validated for implementation.\n",
    "\n",
    "With customer segments defined, supervised learning techniques, such as classification and regression, can be applied.  Classification learning algorithms can be used to relate a new customer, and their corresponding consumption elements, to one of the clusters that was generated from the unsupervised learning technique. For regression, the clusters can be used to predict purchase orders of future wholesale customers.\n",
    "\n"
   ]
  }
 ],
 "metadata": {
  "kernelspec": {
   "display_name": "Python 2",
   "language": "python",
   "name": "python2"
  },
  "language_info": {
   "codemirror_mode": {
    "name": "ipython",
    "version": 2
   },
   "file_extension": ".py",
   "mimetype": "text/x-python",
   "name": "python",
   "nbconvert_exporter": "python",
   "pygments_lexer": "ipython2",
   "version": "2.7.11"
  }
 },
 "nbformat": 4,
 "nbformat_minor": 0
}
