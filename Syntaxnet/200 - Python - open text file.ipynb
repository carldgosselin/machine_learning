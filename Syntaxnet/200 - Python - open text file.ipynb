{
 "cells": [
  {
   "cell_type": "markdown",
   "metadata": {},
   "source": [
    "# Python - Open text file"
   ]
  },
  {
   "cell_type": "code",
   "execution_count": 1,
   "metadata": {
    "collapsed": false
   },
   "outputs": [
    {
     "name": "stdout",
     "output_type": "stream",
     "text": [
      "This agreement is made between Google and Apple.\n"
     ]
    }
   ],
   "source": [
    "# Open test.txt\n",
    "\n",
    "with open('carl/test/test.txt', 'r') as myfile:\n",
    "    data_full_text1=myfile.read()\n",
    "    print data_full_text1"
   ]
  },
  {
   "cell_type": "code",
   "execution_count": 2,
   "metadata": {
    "collapsed": false
   },
   "outputs": [
    {
     "name": "stdout",
     "output_type": "stream",
     "text": [
      "1\tThis\t_\tDET\tDT\t_\t2\tdet\t_\t_\n",
      "2\tagreement\t_\tNOUN\tNN\t_\t4\tnsubjpass\t_\t_\n",
      "3\tis\t_\tVERB\tVBZ\t_\t4\tauxpass\t_\t_\n",
      "4\tmade\t_\tVERB\tVBN\t_\t0\tROOT\t_\t_\n",
      "5\tbetween\t_\tADP\tIN\t_\t4\tprep\t_\t_\n",
      "6\tGoogle\t_\tNOUN\tNNP\t_\t5\tpobj\t_\t_\n",
      "7\tand\t_\tCONJ\tCC\t_\t6\tcc\t_\t_\n",
      "8\tApple\t_\tNOUN\tNNP\t_\t6\tconj\t_\t_\n",
      "9\t.\t_\t.\t.\t_\t4\tpunct\t_\t_\n",
      "\n",
      "\n"
     ]
    }
   ],
   "source": [
    "# Open test_output.txt (data processed by Syntaxnet)\n",
    "\n",
    "with open('carl/test/test_output.txt', 'rb') as myfile:\n",
    "    data_full_text1=myfile.read()\n",
    "    print data_full_text1"
   ]
  }
 ],
 "metadata": {
  "kernelspec": {
   "display_name": "Python 2",
   "language": "python",
   "name": "python2"
  },
  "language_info": {
   "codemirror_mode": {
    "name": "ipython",
    "version": 2
   },
   "file_extension": ".py",
   "mimetype": "text/x-python",
   "name": "python",
   "nbconvert_exporter": "python",
   "pygments_lexer": "ipython2",
   "version": "2.7.12"
  }
 },
 "nbformat": 4,
 "nbformat_minor": 0
}
