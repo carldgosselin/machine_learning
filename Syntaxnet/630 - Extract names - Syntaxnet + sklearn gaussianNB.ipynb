{
 "cells": [
  {
   "cell_type": "markdown",
   "metadata": {},
   "source": [
    "# Extract names from doc - Syntaxnet + Sklearn GaussianNB\n",
    "\n",
    "This is a follow-up to the baseline solution.  The baseline solution utilized a basic sequential approach to finding the party names in an agreement.<br>\n",
    "Format:  Agreement Name, Party1:  YOU, Party2: Apple\n",
    "\n",
    "For this solution, **Syntaxnet** processed data and **Machine Learning** WILL BE utilized."
   ]
  },
  {
   "cell_type": "code",
   "execution_count": 1,
   "metadata": {
    "collapsed": true
   },
   "outputs": [],
   "source": [
    "import numpy as np # scientific computing\n",
    "import pandas as pd # data analysis (dataframes) \n",
    "import time # to measure how long it takes to train and test a model\n",
    "from sklearn.cross_validation import train_test_split #to split between training and testing\n",
    "from sklearn.naive_bayes import GaussianNB # Naive Bayes algorithm\n",
    "from sklearn.metrics import f1_score # measures accuracy of predictions.  Scale: 0 (bad) to 1 (good)\n",
    "from sklearn.decomposition import PCA # Used to prevent the curse of dimensionality\n",
    "import matplotlib.pyplot as plt\n",
    "\n",
    "# Tell iPython to include plots inline in the notebook\n",
    "%matplotlib inline"
   ]
  },
  {
   "cell_type": "code",
   "execution_count": 2,
   "metadata": {
    "collapsed": false
   },
   "outputs": [
    {
     "name": "stdout",
     "output_type": "stream",
     "text": [
      "\n",
      "Training data read successfully! \n",
      "\n"
     ]
    }
   ],
   "source": [
    "# Read training csv file.\n",
    "agreements_data = pd.read_csv(\"data/agreements_dataset2.csv\")\n",
    "print \"\\n\",\"Training data read successfully!\", \"\\n\""
   ]
  },
  {
   "cell_type": "code",
   "execution_count": 3,
   "metadata": {
    "collapsed": false
   },
   "outputs": [
    {
     "name": "stdout",
     "output_type": "stream",
     "text": [
      "\n",
      "Total number of rows: 2223\n",
      "Number of features: 10 \n",
      "\n"
     ]
    }
   ],
   "source": [
    "# Explore the data\n",
    "\n",
    "n_rows = len(agreements_data)\n",
    "n_features = agreements_data.shape[1] - 1 # added -1 as the last column is the target\n",
    "\n",
    "print \"\\n\", \"Total number of rows: {}\".format(n_rows)\n",
    "print \"Number of features: {}\".format(n_features), \"\\n\"\n"
   ]
  },
  {
   "cell_type": "code",
   "execution_count": 4,
   "metadata": {
    "collapsed": false
   },
   "outputs": [],
   "source": [
    "# Identify features and target columns\n",
    "\n",
    "feature_cols = list(agreements_data.columns[:-1])  # all columns but last are features\n",
    "target_col = agreements_data.columns[-1]  # last column is the target/label (party names)\n",
    "\n",
    "X_all = agreements_data[feature_cols]  # feature values for all agreements\n",
    "y_all = agreements_data[target_col]  # corresponding targets/labels\n"
   ]
  },
  {
   "cell_type": "code",
   "execution_count": 5,
   "metadata": {
    "collapsed": false
   },
   "outputs": [
    {
     "name": "stdout",
     "output_type": "stream",
     "text": [
      "Total columns after pre-processing: 692\n",
      "\n"
     ]
    }
   ],
   "source": [
    "# Preprocess feature columns\n",
    "def preprocess_features(X):\n",
    "    outX = pd.DataFrame(index=X.index)  # output dataframe, initially empty\n",
    "\n",
    "    # Check each column\n",
    "    for col, col_data in X.iteritems():\n",
    "        # If data type is non-numeric, try to replace all yes/no values with 1/0\n",
    "        if col_data.dtype == object:\n",
    "            col_data = col_data.replace(['T', 'F'], [1, 0])\n",
    "            \n",
    "        # If data type is non-numeric, try to replace all \"_\" values with 0\n",
    "        if col_data.dtype == object:\n",
    "            col_data = col_data.replace(['_'], [0])\n",
    "\n",
    "        # If still non-numeric, convert to one or more dummy variables\n",
    "        if col_data.dtype == object:\n",
    "            col_data = pd.get_dummies(col_data, prefix=col) # e.g. 'feature_3' => 'feature_3_ADJ', 'feature_3_ADP'\n",
    "\n",
    "        outX = outX.join(col_data)  # collect column(s) in output dataframe\n",
    "\n",
    "    return outX\n",
    "\n",
    "X_all = preprocess_features(X_all)\n",
    "\n",
    "print \"Total columns after pre-processing: {}\\n\".format(len(X_all.columns))"
   ]
  },
  {
   "cell_type": "code",
   "execution_count": 6,
   "metadata": {
    "collapsed": false
   },
   "outputs": [
    {
     "name": "stdout",
     "output_type": "stream",
     "text": [
      "\n",
      "Training set: 2177 samples\n",
      "Test set: 46 samples \n",
      "\n"
     ]
    }
   ],
   "source": [
    "# Split data into training and testing datasets\n",
    "\n",
    "rowNumber = 2177\n",
    "\n",
    "# training data\n",
    "X_train = X_all[:rowNumber]\n",
    "y_train = y_all[:rowNumber]\n",
    "\n",
    "# testing data\n",
    "X_test = X_all[rowNumber:]\n",
    "y_test = y_all[rowNumber:]\n",
    "\n",
    "print \"\\n\", \"Training set: {} samples\".format(X_train.shape[0])\n",
    "print \"Test set: {} samples\".format(X_test.shape[0]), \"\\n\""
   ]
  },
  {
   "cell_type": "code",
   "execution_count": 7,
   "metadata": {
    "collapsed": false
   },
   "outputs": [
    {
     "name": "stdout",
     "output_type": "stream",
     "text": [
      "\n",
      "Training GaussianNB...\n",
      "Training time (secs): 0.065 \n",
      "\n"
     ]
    }
   ],
   "source": [
    "# Train model\n",
    "\n",
    "def train_classifier(clf, X_train, y_train):\n",
    "    print \"\\n\", \"Training {}...\".format(clf.__class__.__name__)\n",
    "    start = time.time()\n",
    "    clf.fit(X_train, y_train)\n",
    "    end = time.time()\n",
    "    print \"Training time (secs): {:.3f}\".format(end - start), \"\\n\"\n",
    "\n",
    "# Instantiate Gaussian Naive Bays algorithm\n",
    "clf = GaussianNB() # clf -> classifier\n",
    "\n",
    "# Fit model to training data\n",
    "train_classifier(clf, X_train, y_train) "
   ]
  },
  {
   "cell_type": "code",
   "execution_count": 8,
   "metadata": {
    "collapsed": false
   },
   "outputs": [
    {
     "name": "stdout",
     "output_type": "stream",
     "text": [
      "\n",
      "Predicting labels using GaussianNB...\n",
      "Prediction time (secs): 0.078\n",
      "F1 score for training set: 0.52736318408 \n",
      "\n"
     ]
    }
   ],
   "source": [
    "# Predict on training set and compute F1 score\n",
    "\n",
    "def predict_labels(clf, features, target):\n",
    "    print \"\\n\", \"Predicting labels using {}...\".format(clf.__class__.__name__)\n",
    "    start = time.time()\n",
    "    y_pred = clf.predict(features)\n",
    "    end = time.time()\n",
    "    print \"Prediction time (secs): {:.3f}\".format(end - start)\n",
    "    return f1_score(target.values, y_pred, pos_label='T')\n",
    "\n",
    "train_f1_score = predict_labels(clf, X_train, y_train)\n",
    "print \"F1 score for training set: {}\".format(train_f1_score), \"\\n\""
   ]
  },
  {
   "cell_type": "code",
   "execution_count": 9,
   "metadata": {
    "collapsed": false
   },
   "outputs": [
    {
     "name": "stdout",
     "output_type": "stream",
     "text": [
      "\n",
      "Predicting labels using GaussianNB...\n",
      "y_pred on test: \n",
      "['T' 'F' 'F' 'T' 'F' 'F' 'F' 'F' 'F' 'F' 'F' 'F' 'F' 'F' 'F' 'F' 'F' 'F'\n",
      " 'F' 'T' 'F' 'F' 'F' 'F' 'F' 'T' 'F' 'T' 'T' 'F' 'F' 'F' 'F' 'F' 'T' 'F'\n",
      " 'T' 'F' 'T' 'F' 'F' 'T' 'F' 'F' 'F' 'F']\n",
      "Prediction time (secs): 0.003\n",
      "F1 score for test set: 0.461538461538 \n",
      "\n"
     ]
    }
   ],
   "source": [
    "# Predict on test data\n",
    "\n",
    "def predict_labels_test(clf, features, target):\n",
    "    print \"\\n\", \"Predicting labels using {}...\".format(clf.__class__.__name__)\n",
    "    start = time.time()\n",
    "    y_pred = clf.predict(features)\n",
    "    print \"y_pred on test: \"\n",
    "    print y_pred\n",
    "    end = time.time()\n",
    "    print \"Prediction time (secs): {:.3f}\".format(end - start)\n",
    "    return f1_score(target.values, y_pred, pos_label='T')\n",
    "\n",
    "print \"F1 score for test set: {}\".format(predict_labels_test(clf, X_test, y_test)), \"\\n\""
   ]
  },
  {
   "cell_type": "code",
   "execution_count": null,
   "metadata": {
    "collapsed": true
   },
   "outputs": [],
   "source": [
    "# Apply code to extract the actual words identified from the party name prediction above \n",
    "#(as opposed to showing only True and Falses)"
   ]
  }
 ],
 "metadata": {
  "kernelspec": {
   "display_name": "Python 2",
   "language": "python",
   "name": "python2"
  },
  "language_info": {
   "codemirror_mode": {
    "name": "ipython",
    "version": 2
   },
   "file_extension": ".py",
   "mimetype": "text/x-python",
   "name": "python",
   "nbconvert_exporter": "python",
   "pygments_lexer": "ipython2",
   "version": "2.7.12"
  }
 },
 "nbformat": 4,
 "nbformat_minor": 0
}
