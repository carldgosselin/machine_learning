{
 "cells": [
  {
   "cell_type": "markdown",
   "metadata": {},
   "source": [
    "# Syntaxnet - Input and Output to text file\n",
    "\n",
    "There are a couple of options to input and output data from text files.\n",
    "\n",
    "At the moment, I prefer instructing Syntaxnet on text file inputs/outputs at the command line prompt.\n",
    "\n",
    "1. Input example:  syntaxnet/demo_carl2.sh **< carl/test/test.txt** <br><br>\n",
    "\n",
    "2. Output example:  echo 'Bob brought the pizza to Alice' | syntaxnet/demo_carl2.sh **> carl/test/test_output.txt** <br><br>\n",
    "\n",
    "3. Input and output example:  syntaxnet/demo_carl2.sh **< carl/test/test.txt > carl/test/test_output.txt** <br><br>"
   ]
  },
  {
   "cell_type": "markdown",
   "metadata": {
    "collapsed": true
   },
   "source": [
    "Use %%bash to run command line commands in this Python notebook..."
   ]
  },
  {
   "cell_type": "markdown",
   "metadata": {
    "collapsed": true
   },
   "source": [
    "See below for text file used for both input and output..."
   ]
  },
  {
   "cell_type": "code",
   "execution_count": null,
   "metadata": {
    "collapsed": false
   },
   "outputs": [],
   "source": [
    "%%bash\n",
    "syntaxnet/demo_carl2.sh < carl/test/test.txt > carl/test/test_output.txt"
   ]
  },
  {
   "cell_type": "code",
   "execution_count": 2,
   "metadata": {
    "collapsed": false
   },
   "outputs": [
    {
     "name": "stdout",
     "output_type": "stream",
     "text": [
      "1\tThis\t_\tDET\tDT\t_\t2\tdet\t_\t_\n",
      "2\tagreement\t_\tNOUN\tNN\t_\t4\tnsubjpass\t_\t_\n",
      "3\tis\t_\tVERB\tVBZ\t_\t4\tauxpass\t_\t_\n",
      "4\tmade\t_\tVERB\tVBN\t_\t0\tROOT\t_\t_\n",
      "5\tbetween\t_\tADP\tIN\t_\t4\tprep\t_\t_\n",
      "6\tGoogle\t_\tNOUN\tNNP\t_\t5\tpobj\t_\t_\n",
      "7\tand\t_\tCONJ\tCC\t_\t6\tcc\t_\t_\n",
      "8\tApple\t_\tNOUN\tNNP\t_\t6\tconj\t_\t_\n",
      "9\t.\t_\t.\t.\t_\t4\tpunct\t_\t_\n",
      "\n",
      "\n"
     ]
    }
   ],
   "source": [
    "# View what's inside text_output.txt\n",
    "\n",
    "with open('carl/test/test_output.txt', 'rb') as myfile:\n",
    "    data_full_text1=myfile.read()\n",
    "    print data_full_text1"
   ]
  }
 ],
 "metadata": {
  "kernelspec": {
   "display_name": "Python 2",
   "language": "python",
   "name": "python2"
  },
  "language_info": {
   "codemirror_mode": {
    "name": "ipython",
    "version": 2
   },
   "file_extension": ".py",
   "mimetype": "text/x-python",
   "name": "python",
   "nbconvert_exporter": "python",
   "pygments_lexer": "ipython2",
   "version": "2.7.12"
  }
 },
 "nbformat": 4,
 "nbformat_minor": 0
}
