{
 "cells": [
  {
   "cell_type": "markdown",
   "metadata": {},
   "source": [
    "# Python - Splitting text into separate sentences"
   ]
  },
  {
   "cell_type": "code",
   "execution_count": 1,
   "metadata": {
    "collapsed": false
   },
   "outputs": [
    {
     "name": "stdout",
     "output_type": "stream",
     "text": [
      "1. original text...  \n",
      "[' This is the first sentence. This agreement is made between Google and Apple. This is the third sentence in this file.'] \n",
      "\n",
      "2. Text with each sentence separated and saved in an array...\n",
      "[' This is the first sentence.', ' This agreement is made between Google and Apple.', ' This is the third sentence in this file.', '.'] \n",
      "\n",
      "3. The following lines are saved to a new text file (test_output2.txt)... \n",
      " This is the first sentence.\n",
      " This agreement is made between Google and Apple.\n",
      " This is the third sentence in this file.\n",
      ".\n"
     ]
    }
   ],
   "source": [
    "raw_text_file = open('carl/test/test2.txt', 'r')\n",
    "text = raw_text_file.readlines()\n",
    "print \"1. original text... \", \"\\n\", text, \"\\n\"\n",
    " \n",
    "for lines in text:\n",
    "    line_split = lines.split(\".\") # split each sentence by row\n",
    "    line_split = [x + \".\" for x in line_split] # re-add period at end of sentence\n",
    "    print \"2. Text with each sentence separated and saved in an array...\"\n",
    "    print line_split, \"\\n\"\n",
    "    \n",
    "output_file=open('carl/test/test_output2.txt', 'w')\n",
    "print \"3. The following lines are saved to a new text file (test_output2.txt)... \"\n",
    "for i in line_split:\n",
    "    print i\n",
    "    print >> output_file, i"
   ]
  }
 ],
 "metadata": {
  "kernelspec": {
   "display_name": "Python 2",
   "language": "python",
   "name": "python2"
  },
  "language_info": {
   "codemirror_mode": {
    "name": "ipython",
    "version": 2
   },
   "file_extension": ".py",
   "mimetype": "text/x-python",
   "name": "python",
   "nbconvert_exporter": "python",
   "pygments_lexer": "ipython2",
   "version": "2.7.12"
  }
 },
 "nbformat": 4,
 "nbformat_minor": 0
}
